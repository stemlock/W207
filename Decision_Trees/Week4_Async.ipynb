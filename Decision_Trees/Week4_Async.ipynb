{
 "cells": [
  {
   "cell_type": "markdown",
   "metadata": {},
   "source": [
    "### Decision Trees"
   ]
  },
  {
   "cell_type": "markdown",
   "metadata": {},
   "source": [
    "Write functions to calculate the entropy and information gain of a subtree"
   ]
  },
  {
   "cell_type": "code",
   "execution_count": 48,
   "metadata": {},
   "outputs": [
    {
     "name": "stdout",
     "output_type": "stream",
     "text": [
      "0.506730616163033\n"
     ]
    }
   ],
   "source": [
    "import numpy as np\n",
    "from sklearn.preprocessing import normalize\n",
    "\n",
    "def entropy_function(dist):\n",
    "\n",
    "    '''\n",
    "    Calculates and returns the entropy of a node distribution represented by a 1D numpy array.\n",
    "    '''\n",
    "    \n",
    "    # Apply the log2 function to the node and use a masked array to account for log2(0)\n",
    "    dist_log_ma = np.ma.log2(dist)\n",
    "    dist *= -(dist_log_ma)\n",
    "    \n",
    "    # Add all transformed distrubtions to get the total entropy\n",
    "    entropy = np.sum(dist)\n",
    "    \n",
    "    return entropy\n",
    "\n",
    "def info_gain(root_split, child_splits):\n",
    "    \n",
    "    '''\n",
    "    Calculate the information gain of the feature by inputing the feature splits of the root and children.\n",
    "    '''\n",
    "    \n",
    "    # Calculate the weights of the child nodes\n",
    "    weights = np.sum(child_splits, axis=1)/np.sum(root_split)\n",
    "    \n",
    "    # Normalize both the root and children nodes before calculating the entropy\n",
    "    normed_root = normalize(root_split.reshape(-1,1), axis=0, norm='l1').T\n",
    "    normed_children = normalize(child_splits, axis=1, norm='l1')\n",
    "        \n",
    "    # Get the entropy of the root node\n",
    "    H_root = entropy_function(normed_root)\n",
    "    \n",
    "    # Get the of the children nodes and multiply each child node by the weight\n",
    "    H_child = np.apply_along_axis(entropy_function, 1, normed_children)\n",
    "    H_child *= weights\n",
    "    \n",
    "    # Calculate information gain\n",
    "    IG = H_root - np.sum(H_child)\n",
    "    \n",
    "    return IG\n",
    "\n",
    "root = np.array([22,18])\n",
    "children = np.array([[0,0], [4,17], [1,0], [8,0], [9,1]])\n",
    "\n",
    "print(info_gain(root, children))"
   ]
  },
  {
   "cell_type": "code",
   "execution_count": null,
   "metadata": {},
   "outputs": [],
   "source": []
  }
 ],
 "metadata": {
  "kernelspec": {
   "display_name": "Python 3",
   "language": "python",
   "name": "python3"
  },
  "language_info": {
   "codemirror_mode": {
    "name": "ipython",
    "version": 3
   },
   "file_extension": ".py",
   "mimetype": "text/x-python",
   "name": "python",
   "nbconvert_exporter": "python",
   "pygments_lexer": "ipython3",
   "version": "3.7.9"
  }
 },
 "nbformat": 4,
 "nbformat_minor": 4
}
