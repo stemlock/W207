{
 "cells": [
  {
   "cell_type": "markdown",
   "metadata": {
    "id": "c-DM_yDXT6dh"
   },
   "source": [
    "# Part 1: Single Layer Neural Network"
   ]
  },
  {
   "cell_type": "code",
   "execution_count": 12,
   "metadata": {
    "colab": {
     "base_uri": "https://localhost:8080/"
    },
    "executionInfo": {
     "elapsed": 540,
     "status": "ok",
     "timestamp": 1613014243625,
     "user": {
      "displayName": "Todd Holloway",
      "photoUrl": "https://lh3.googleusercontent.com/-Fjjf5JgE-cQ/AAAAAAAAAAI/AAAAAAAARlo/rz8G-eBTNGo/s64/photo.jpg",
      "userId": "06017688276795782893"
     },
     "user_tz": 480
    },
    "id": "JsFAIBL8T6dh",
    "outputId": "d5330807-4384-433c-ec2f-b826cd3a51ea"
   },
   "outputs": [],
   "source": [
    "%matplotlib inline\n",
    "\n",
    "import numpy as np\n",
    "import time\n",
    "\n",
    "from keras import optimizers\n",
    "from keras.models import Sequential \n",
    "from keras.layers import Dense, Activation, Dropout\n",
    "from keras.layers.convolutional import Conv2D\n",
    "from keras.layers.convolutional import MaxPooling2D\n",
    "from keras.layers import Flatten\n",
    "from keras.utils import np_utils\n",
    "from keras.datasets import mnist\n",
    "from keras import backend as K\n",
    "\n",
    "np.random.seed(0)"
   ]
  },
  {
   "cell_type": "code",
   "execution_count": 13,
   "metadata": {
    "colab": {
     "base_uri": "https://localhost:8080/"
    },
    "executionInfo": {
     "elapsed": 953,
     "status": "ok",
     "timestamp": 1613014287336,
     "user": {
      "displayName": "Todd Holloway",
      "photoUrl": "https://lh3.googleusercontent.com/-Fjjf5JgE-cQ/AAAAAAAAAAI/AAAAAAAARlo/rz8G-eBTNGo/s64/photo.jpg",
      "userId": "06017688276795782893"
     },
     "user_tz": 480
    },
    "id": "v9NL8Cc_T6dp",
    "outputId": "537b7ec1-a8cb-4862-83d5-409940814eab"
   },
   "outputs": [
    {
     "name": "stdout",
     "output_type": "stream",
     "text": [
      "x_train shape: (2000, 784)\n",
      "x_test shape: (2000, 784)\n"
     ]
    }
   ],
   "source": [
    "num_examples = 2000\n",
    "num_classes = 10\n",
    "img_rows = 28\n",
    "img_cols = 28\n",
    "num_features = 784\n",
    "\n",
    "(x_train, y_train), (x_test, y_test) = mnist.load_data()\n",
    "x_train, y_train = x_train[:num_examples], y_train[:num_examples]\n",
    "x_test, y_test = x_test[:num_examples], y_test[:num_examples]\n",
    "x_train = x_train.reshape(num_examples, num_features)\n",
    "x_test = x_test.reshape(num_examples, num_features)\n",
    "x_train = x_train.astype('float32')\n",
    "x_test = x_test.astype('float32')\n",
    "x_train /= 255\n",
    "x_test /= 255\n",
    "y_train = np_utils.to_categorical(y_train, num_classes)\n",
    "y_test = np_utils.to_categorical(y_test, num_classes)\n",
    "train_labels_b = y_train\n",
    "test_labels_b = y_test\n",
    "\n",
    "print('x_train shape:', x_train.shape)\n",
    "print('x_test shape:', x_train.shape)"
   ]
  },
  {
   "cell_type": "markdown",
   "metadata": {},
   "source": [
    "First try to classify the data using a single layer feedforward neural network using batch gradient descent."
   ]
  },
  {
   "cell_type": "code",
   "execution_count": 14,
   "metadata": {},
   "outputs": [
    {
     "name": "stdout",
     "output_type": "stream",
     "text": [
      "Test accuracy: 0.6154999732971191\n"
     ]
    }
   ],
   "source": [
    "## Model (feedforward model)\n",
    "model = Sequential() \n",
    "\n",
    "# Add a dense output layer where every node is connnected, and use softmax (pick the biggest mumber)\n",
    "model.add(Dense(10, input_shape=(num_features,), activation='softmax')) \n",
    "\n",
    "## Cost function & Objective (and solver)\n",
    "\n",
    "# Use stochastic gradient descent\n",
    "sgd = optimizers.SGD(lr=0.02)\n",
    "model.compile(optimizer=sgd, loss='categorical_crossentropy', metrics=['accuracy'])\n",
    "history = model.fit(x_train, train_labels_b, shuffle=False, batch_size=2000,verbose=0, epochs=52) \n",
    "score = model.evaluate(x_test, test_labels_b, verbose=0) \n",
    "print('Test accuracy:', score[1])"
   ]
  },
  {
   "cell_type": "markdown",
   "metadata": {
    "id": "FaAWvMVsT6dv"
   },
   "source": [
    "Update batch gradient descent to stochastic gradient descent."
   ]
  },
  {
   "cell_type": "code",
   "execution_count": 20,
   "metadata": {
    "colab": {
     "base_uri": "https://localhost:8080/",
     "height": 51
    },
    "executionInfo": {
     "elapsed": 56333,
     "status": "ok",
     "timestamp": 1602728375744,
     "user": {
      "displayName": "Todd Holloway",
      "photoUrl": "https://lh3.googleusercontent.com/-Fjjf5JgE-cQ/AAAAAAAAAAI/AAAAAAAARlo/rz8G-eBTNGo/s64/photo.jpg",
      "userId": "06017688276795782893"
     },
     "user_tz": 420
    },
    "id": "LWMIZ0t7T6dw",
    "outputId": "4216b8b4-a2da-497c-e7a3-852bae5e27f2"
   },
   "outputs": [
    {
     "name": "stdout",
     "output_type": "stream",
     "text": [
      "Test accuracy: 0.8215000033378601\n"
     ]
    }
   ],
   "source": [
    "## Model\n",
    "model = Sequential() \n",
    "model.add(Dense(10, input_dim=num_features, activation='softmax')) \n",
    "\n",
    "## Cost function & Objective (and solver)\n",
    "sgd = optimizers.SGD(lr=0.02)\n",
    "model.compile(optimizer=sgd, loss='categorical_crossentropy', metrics=['accuracy'])\n",
    "history = model.fit(x_train, train_labels_b, shuffle=False, batch_size=100,verbose=0, epochs=50) \n",
    "score = model.evaluate(x_test, test_labels_b, verbose=0) \n",
    "print('Test accuracy:', score[1])"
   ]
  },
  {
   "cell_type": "markdown",
   "metadata": {
    "id": "-DRorgERT6dz"
   },
   "source": [
    "# PART 2: Multi-layer Neural Networks"
   ]
  },
  {
   "cell_type": "markdown",
   "metadata": {
    "id": "j3pr45e0T6dz"
   },
   "source": [
    "Take the implementation of logistic regression and add a hidden layer, making it a two layer neural network.  "
   ]
  },
  {
   "cell_type": "code",
   "execution_count": 22,
   "metadata": {
    "colab": {
     "base_uri": "https://localhost:8080/"
    },
    "executionInfo": {
     "elapsed": 7905,
     "status": "ok",
     "timestamp": 1602125989140,
     "user": {
      "displayName": "Todd Holloway",
      "photoUrl": "https://lh3.googleusercontent.com/-Fjjf5JgE-cQ/AAAAAAAAAAI/AAAAAAAARlo/rz8G-eBTNGo/s64/photo.jpg",
      "userId": "06017688276795782893"
     },
     "user_tz": 420
    },
    "id": "upwLDfSxT6d0",
    "outputId": "15cb1286-87a1-466e-e2e2-d803f50721a5"
   },
   "outputs": [
    {
     "name": "stdout",
     "output_type": "stream",
     "text": [
      "Test score: 0.4961794316768646\n",
      "Test accuracy: 0.8460000157356262\n"
     ]
    }
   ],
   "source": [
    "## Model (feedforward) with 2 layers\n",
    "model = Sequential() \n",
    "\n",
    "# One hidden layer\n",
    "model.add(Dense(input_dim=num_features, units=20, activation='sigmoid')) \n",
    "\n",
    "# One output layer\n",
    "model.add(Dense(input_dim=20, units=10, activation='softmax')) \n",
    "\n",
    "## Cost function & Objective (and solver)\n",
    "sgd = optimizers.SGD(lr=0.02)\n",
    "model.compile(optimizer=sgd, loss='categorical_crossentropy', metrics=['accuracy'])\n",
    "history = model.fit(x_train, train_labels_b, shuffle=False, batch_size=10,verbose=0, epochs=50) \n",
    "score = model.evaluate(x_test, test_labels_b, verbose=0) \n",
    "print('Test score:', score[0]) \n",
    "print('Test accuracy:', score[1])"
   ]
  },
  {
   "cell_type": "markdown",
   "metadata": {
    "id": "_PKPYRlaT6d9"
   },
   "source": [
    "#### Activation Revisted"
   ]
  },
  {
   "cell_type": "markdown",
   "metadata": {
    "id": "584_rxgnT6d9"
   },
   "source": [
    "In 2010, in a paper published at NIPS (https://www.utc.fr/~bordesan/dokuwiki/_media/en/glorot10nipsworkshop.pdf), Yoshua Bengio showed that rectifier activation works better empirically than sigmoid activation when used in the hidden layers.  \n",
    "\n",
    "The rectifier activation is: f(x)=max(0,x).  Intuitively, the difference is that as a sigmoid activated node approaches 1 it stops learning even if error continues to be propagated to it, whereas the rectifier activated node continue to learn (at least in the positive direction).  Rectifiers also speed up training."
   ]
  },
  {
   "cell_type": "code",
   "execution_count": 23,
   "metadata": {
    "colab": {
     "base_uri": "https://localhost:8080/"
    },
    "executionInfo": {
     "elapsed": 7924,
     "status": "ok",
     "timestamp": 1602126117197,
     "user": {
      "displayName": "Todd Holloway",
      "photoUrl": "https://lh3.googleusercontent.com/-Fjjf5JgE-cQ/AAAAAAAAAAI/AAAAAAAARlo/rz8G-eBTNGo/s64/photo.jpg",
      "userId": "06017688276795782893"
     },
     "user_tz": 420
    },
    "id": "82Rc2Kw6T6d-",
    "outputId": "91e25750-37c9-4f17-f75d-293b4ed7517b"
   },
   "outputs": [
    {
     "name": "stdout",
     "output_type": "stream",
     "text": [
      "Test score: 0.520481288433075\n",
      "Test accuracy: 0.8554999828338623\n"
     ]
    }
   ],
   "source": [
    "## Model\n",
    "model = Sequential() \n",
    "\n",
    "# To prevent overfitting, we can use relu\n",
    "model.add(Dense(units=30, input_dim=num_features, activation='relu')) \n",
    "model.add(Dense(units=10, input_dim=30, activation='softmax')) \n",
    "\n",
    "## Cost function & Objective (and solver)\n",
    "sgd = optimizers.SGD(lr=0.02)\n",
    "model.compile(optimizer=sgd, loss='categorical_crossentropy', metrics=['accuracy'])\n",
    "history = model.fit(x_train, train_labels_b, shuffle=False, batch_size=10,verbose=0, epochs=50) \n",
    "score = model.evaluate(x_test, test_labels_b, verbose=0) \n",
    "print('Test score:', score[0]) \n",
    "print('Test accuracy:', score[1])"
   ]
  },
  {
   "cell_type": "markdown",
   "metadata": {
    "id": "IkzWTevcT6eB"
   },
   "source": [
    "#### Noise"
   ]
  },
  {
   "cell_type": "markdown",
   "metadata": {
    "id": "x0fyd5ohT6eB"
   },
   "source": [
    "Previously when working with the MNIST data there was a benefit in generalization from adding noise to the training data (blurring). This time use a trick for adding noise called 'Dropouts'.  The idea with dropouts is that instead of (or in addition to) adding noise to our inputs, we add noise by having each node return 0 with a certain probability during training.  This trick both improves generalization in large networks and speeds up training.\n",
    "\n",
    "Hinton introduced the idea in 2012 and gave an explanation of why it's similar to bagging (http://arxiv.org/pdf/1207.0580v1.pdf)."
   ]
  },
  {
   "cell_type": "code",
   "execution_count": 24,
   "metadata": {
    "id": "YkKhBp9fT6eC",
    "outputId": "d0e0c593-129c-4794-a578-499d12cea515"
   },
   "outputs": [
    {
     "name": "stdout",
     "output_type": "stream",
     "text": [
      "Test score: 0.45905208587646484\n",
      "Test accuracy: 0.8644999861717224\n"
     ]
    }
   ],
   "source": [
    "## Model\n",
    "model = Sequential() \n",
    "model.add(Dense(units=30, input_dim=num_features, activation='relu')) \n",
    "model.add(Dropout(0.1))\n",
    "model.add(Dense(units=10, input_dim=30, activation='softmax')) \n",
    "\n",
    "## Cost function & Objective (and solver)\n",
    "sgd = optimizers.SGD(lr=0.01)\n",
    "model.compile(optimizer=sgd, loss='categorical_crossentropy', metrics=['accuracy'])\n",
    "history = model.fit(x_train, train_labels_b, shuffle=False, batch_size=10,verbose=0, epochs=50) \n",
    "score = model.evaluate(x_test, test_labels_b, verbose=0) \n",
    "print('Test score:', score[0]) \n",
    "print('Test accuracy:', score[1])"
   ]
  },
  {
   "cell_type": "markdown",
   "metadata": {
    "id": "dnv-qv_ET6eF"
   },
   "source": [
    "# PART 3: Convolutional Neural Networks"
   ]
  },
  {
   "cell_type": "markdown",
   "metadata": {},
   "source": [
    "Convolutional neural networks use different types of layers to create higher dimension abstractions/representations of data. First, reshape the data to be higher dimensional for the CNN."
   ]
  },
  {
   "cell_type": "code",
   "execution_count": 25,
   "metadata": {
    "colab": {
     "base_uri": "https://localhost:8080/",
     "height": 51
    },
    "executionInfo": {
     "elapsed": 680,
     "status": "ok",
     "timestamp": 1602728464835,
     "user": {
      "displayName": "Todd Holloway",
      "photoUrl": "https://lh3.googleusercontent.com/-Fjjf5JgE-cQ/AAAAAAAAAAI/AAAAAAAARlo/rz8G-eBTNGo/s64/photo.jpg",
      "userId": "06017688276795782893"
     },
     "user_tz": 420
    },
    "id": "avXzLwPXT6eF",
    "outputId": "6a09fd09-ecc2-411d-b90e-d21e36f4c055"
   },
   "outputs": [
    {
     "name": "stdout",
     "output_type": "stream",
     "text": [
      "x_train shape: (2000, 28, 28, 1)\n",
      "x_test shape: (2000, 28, 28, 1)\n"
     ]
    }
   ],
   "source": [
    "(x_train, y_train), (x_test, y_test) = mnist.load_data()\n",
    "x_train, y_train = x_train[:num_examples], y_train[:num_examples]\n",
    "x_test, y_test = x_test[:num_examples], y_test[:num_examples]\n",
    "x_train = x_train.reshape(num_examples, num_features)\n",
    "x_test = x_test.reshape(num_examples, num_features)\n",
    "x_train = x_train.astype('float32')\n",
    "x_test = x_test.astype('float32')\n",
    "x_train /= 255\n",
    "x_test /= 255\n",
    "x_train = x_train.reshape(x_train.shape[0], img_rows, img_cols, 1)\n",
    "x_test = x_test.reshape(x_test.shape[0], img_rows, img_cols, 1)\n",
    "y_train = np_utils.to_categorical(y_train, num_classes)\n",
    "y_test = np_utils.to_categorical(y_test, num_classes)\n",
    "print('x_train shape:', x_train.shape)\n",
    "print('x_test shape:', x_train.shape)"
   ]
  },
  {
   "cell_type": "markdown",
   "metadata": {},
   "source": [
    "Add different convolutional layers with different sized kernels and a pooling layer."
   ]
  },
  {
   "cell_type": "code",
   "execution_count": 6,
   "metadata": {
    "colab": {
     "base_uri": "https://localhost:8080/",
     "height": 1000
    },
    "executionInfo": {
     "elapsed": 688465,
     "status": "ok",
     "timestamp": 1602730548245,
     "user": {
      "displayName": "Todd Holloway",
      "photoUrl": "https://lh3.googleusercontent.com/-Fjjf5JgE-cQ/AAAAAAAAAAI/AAAAAAAARlo/rz8G-eBTNGo/s64/photo.jpg",
      "userId": "06017688276795782893"
     },
     "user_tz": 420
    },
    "id": "aE__26eIT6eI",
    "outputId": "12cc540f-d75d-4130-ee5c-2e13eba7bd63",
    "scrolled": false
   },
   "outputs": [
    {
     "name": "stdout",
     "output_type": "stream",
     "text": [
      "Epoch 1/100\n",
      "200/200 [==============================] - 4s 16ms/step - loss: 2.0313 - accuracy: 0.3178 - val_loss: 0.8256 - val_accuracy: 0.7280\n",
      "Epoch 2/100\n",
      "200/200 [==============================] - 3s 14ms/step - loss: 0.7109 - accuracy: 0.7737 - val_loss: 0.6778 - val_accuracy: 0.7910\n",
      "Epoch 3/100\n",
      "200/200 [==============================] - 3s 14ms/step - loss: 0.4858 - accuracy: 0.8487 - val_loss: 0.5645 - val_accuracy: 0.8120\n",
      "Epoch 4/100\n",
      "200/200 [==============================] - 3s 13ms/step - loss: 0.3844 - accuracy: 0.8905 - val_loss: 0.5331 - val_accuracy: 0.8315\n",
      "Epoch 5/100\n",
      "200/200 [==============================] - 3s 14ms/step - loss: 0.3092 - accuracy: 0.9093 - val_loss: 0.4617 - val_accuracy: 0.8520\n",
      "Epoch 6/100\n",
      "200/200 [==============================] - 3s 14ms/step - loss: 0.3284 - accuracy: 0.9000 - val_loss: 0.4199 - val_accuracy: 0.8685\n",
      "Epoch 7/100\n",
      "200/200 [==============================] - 3s 16ms/step - loss: 0.2831 - accuracy: 0.9098 - val_loss: 0.3867 - val_accuracy: 0.8765\n",
      "Epoch 8/100\n",
      "200/200 [==============================] - 5s 25ms/step - loss: 0.2155 - accuracy: 0.9376 - val_loss: 0.4142 - val_accuracy: 0.8680\n",
      "Epoch 9/100\n",
      "200/200 [==============================] - 4s 18ms/step - loss: 0.2331 - accuracy: 0.9268 - val_loss: 0.3649 - val_accuracy: 0.8830\n",
      "Epoch 10/100\n",
      "200/200 [==============================] - 3s 15ms/step - loss: 0.2106 - accuracy: 0.9362 - val_loss: 0.3345 - val_accuracy: 0.8985\n",
      "Epoch 11/100\n",
      "200/200 [==============================] - 3s 14ms/step - loss: 0.1806 - accuracy: 0.9398 - val_loss: 0.3042 - val_accuracy: 0.9015\n",
      "Epoch 12/100\n",
      "200/200 [==============================] - 3s 15ms/step - loss: 0.1294 - accuracy: 0.9622 - val_loss: 0.2932 - val_accuracy: 0.9070\n",
      "Epoch 13/100\n",
      "200/200 [==============================] - 3s 15ms/step - loss: 0.1243 - accuracy: 0.9629 - val_loss: 0.2971 - val_accuracy: 0.9040\n",
      "Epoch 14/100\n",
      "200/200 [==============================] - 3s 15ms/step - loss: 0.1226 - accuracy: 0.9650 - val_loss: 0.3321 - val_accuracy: 0.9020\n",
      "Epoch 15/100\n",
      "200/200 [==============================] - 3s 15ms/step - loss: 0.1046 - accuracy: 0.9677 - val_loss: 0.2745 - val_accuracy: 0.9150\n",
      "Epoch 16/100\n",
      "200/200 [==============================] - 3s 14ms/step - loss: 0.1029 - accuracy: 0.9610 - val_loss: 0.2668 - val_accuracy: 0.9200\n",
      "Epoch 17/100\n",
      "200/200 [==============================] - 3s 15ms/step - loss: 0.0829 - accuracy: 0.9796 - val_loss: 0.3020 - val_accuracy: 0.9080\n",
      "Epoch 18/100\n",
      "200/200 [==============================] - 3s 14ms/step - loss: 0.0672 - accuracy: 0.9800 - val_loss: 0.2567 - val_accuracy: 0.9230\n",
      "Epoch 19/100\n",
      "200/200 [==============================] - 3s 14ms/step - loss: 0.0821 - accuracy: 0.9749 - val_loss: 0.2744 - val_accuracy: 0.9190\n",
      "Epoch 20/100\n",
      "200/200 [==============================] - 3s 15ms/step - loss: 0.0577 - accuracy: 0.9803 - val_loss: 0.2720 - val_accuracy: 0.9205\n",
      "Epoch 21/100\n",
      "200/200 [==============================] - 3s 14ms/step - loss: 0.0550 - accuracy: 0.9840 - val_loss: 0.2741 - val_accuracy: 0.9115\n",
      "Epoch 22/100\n",
      "200/200 [==============================] - 3s 14ms/step - loss: 0.0403 - accuracy: 0.9915 - val_loss: 0.2540 - val_accuracy: 0.9320\n",
      "Epoch 23/100\n",
      "200/200 [==============================] - 3s 14ms/step - loss: 0.0563 - accuracy: 0.9835 - val_loss: 0.2530 - val_accuracy: 0.9285\n",
      "Epoch 24/100\n",
      "200/200 [==============================] - 3s 14ms/step - loss: 0.0388 - accuracy: 0.9927 - val_loss: 0.2837 - val_accuracy: 0.9175\n",
      "Epoch 25/100\n",
      "200/200 [==============================] - 3s 14ms/step - loss: 0.0419 - accuracy: 0.9881 - val_loss: 0.2649 - val_accuracy: 0.9275\n",
      "Epoch 26/100\n",
      "200/200 [==============================] - 3s 14ms/step - loss: 0.0300 - accuracy: 0.9933 - val_loss: 0.2460 - val_accuracy: 0.9345\n",
      "Epoch 27/100\n",
      "200/200 [==============================] - 3s 14ms/step - loss: 0.0343 - accuracy: 0.9904 - val_loss: 0.2485 - val_accuracy: 0.9375\n",
      "Epoch 28/100\n",
      "200/200 [==============================] - 3s 14ms/step - loss: 0.0314 - accuracy: 0.9910 - val_loss: 0.2492 - val_accuracy: 0.9335\n",
      "Epoch 29/100\n",
      "200/200 [==============================] - 3s 14ms/step - loss: 0.0343 - accuracy: 0.9872 - val_loss: 0.2631 - val_accuracy: 0.9315\n",
      "Epoch 30/100\n",
      "200/200 [==============================] - 3s 14ms/step - loss: 0.0271 - accuracy: 0.9934 - val_loss: 0.2559 - val_accuracy: 0.9325\n",
      "Epoch 31/100\n",
      "200/200 [==============================] - 3s 14ms/step - loss: 0.0289 - accuracy: 0.9921 - val_loss: 0.2786 - val_accuracy: 0.9215\n",
      "Epoch 32/100\n",
      "200/200 [==============================] - 3s 15ms/step - loss: 0.0163 - accuracy: 0.9973 - val_loss: 0.2641 - val_accuracy: 0.9300\n",
      "Epoch 33/100\n",
      "200/200 [==============================] - 3s 13ms/step - loss: 0.0141 - accuracy: 0.9971 - val_loss: 0.2612 - val_accuracy: 0.9360\n",
      "Epoch 34/100\n",
      "200/200 [==============================] - 3s 14ms/step - loss: 0.0172 - accuracy: 0.9963 - val_loss: 0.2682 - val_accuracy: 0.9305\n",
      "Epoch 35/100\n",
      "200/200 [==============================] - 3s 15ms/step - loss: 0.0180 - accuracy: 0.9956 - val_loss: 0.2616 - val_accuracy: 0.9310\n",
      "Epoch 36/100\n",
      "200/200 [==============================] - 3s 14ms/step - loss: 0.0172 - accuracy: 0.9949 - val_loss: 0.2664 - val_accuracy: 0.9310\n",
      "Epoch 37/100\n",
      "200/200 [==============================] - 3s 14ms/step - loss: 0.0140 - accuracy: 0.9964 - val_loss: 0.2780 - val_accuracy: 0.9285\n",
      "Epoch 38/100\n",
      "200/200 [==============================] - 3s 14ms/step - loss: 0.0160 - accuracy: 0.9960 - val_loss: 0.2503 - val_accuracy: 0.9340\n",
      "Epoch 39/100\n",
      "200/200 [==============================] - 3s 14ms/step - loss: 0.0194 - accuracy: 0.9944 - val_loss: 0.2571 - val_accuracy: 0.9355\n",
      "Epoch 40/100\n",
      "200/200 [==============================] - 3s 14ms/step - loss: 0.0106 - accuracy: 0.9984 - val_loss: 0.2679 - val_accuracy: 0.9335\n",
      "Epoch 41/100\n",
      "200/200 [==============================] - 3s 14ms/step - loss: 0.0117 - accuracy: 0.9966 - val_loss: 0.2525 - val_accuracy: 0.9405\n",
      "Epoch 42/100\n",
      "200/200 [==============================] - 3s 14ms/step - loss: 0.0167 - accuracy: 0.9935 - val_loss: 0.2584 - val_accuracy: 0.9365\n",
      "Epoch 43/100\n",
      "200/200 [==============================] - 3s 14ms/step - loss: 0.0154 - accuracy: 0.9964 - val_loss: 0.2789 - val_accuracy: 0.9340\n",
      "Epoch 44/100\n",
      "200/200 [==============================] - 3s 14ms/step - loss: 0.0127 - accuracy: 0.9986 - val_loss: 0.2636 - val_accuracy: 0.9380\n",
      "Epoch 45/100\n",
      "200/200 [==============================] - 3s 14ms/step - loss: 0.0074 - accuracy: 0.9990 - val_loss: 0.2709 - val_accuracy: 0.9365\n",
      "Epoch 46/100\n",
      "200/200 [==============================] - 3s 14ms/step - loss: 0.0103 - accuracy: 0.9983 - val_loss: 0.2757 - val_accuracy: 0.9330\n",
      "Epoch 47/100\n",
      "200/200 [==============================] - 3s 14ms/step - loss: 0.0058 - accuracy: 0.9999 - val_loss: 0.2790 - val_accuracy: 0.9370\n",
      "Epoch 48/100\n",
      "200/200 [==============================] - 3s 14ms/step - loss: 0.0046 - accuracy: 0.9999 - val_loss: 0.2644 - val_accuracy: 0.9390\n",
      "Epoch 49/100\n",
      "200/200 [==============================] - 3s 14ms/step - loss: 0.0054 - accuracy: 0.9999 - val_loss: 0.3074 - val_accuracy: 0.9305\n",
      "Epoch 50/100\n",
      "200/200 [==============================] - 3s 15ms/step - loss: 0.0061 - accuracy: 0.9993 - val_loss: 0.2850 - val_accuracy: 0.9380\n",
      "Epoch 51/100\n",
      "200/200 [==============================] - 3s 14ms/step - loss: 0.0133 - accuracy: 0.9957 - val_loss: 0.2721 - val_accuracy: 0.9370\n",
      "Epoch 52/100\n",
      "200/200 [==============================] - 3s 14ms/step - loss: 0.0110 - accuracy: 0.9951 - val_loss: 0.2763 - val_accuracy: 0.9345\n",
      "Epoch 53/100\n",
      "200/200 [==============================] - 3s 14ms/step - loss: 0.0075 - accuracy: 0.9990 - val_loss: 0.2836 - val_accuracy: 0.9345\n",
      "Epoch 54/100\n",
      "200/200 [==============================] - 3s 14ms/step - loss: 0.0076 - accuracy: 0.9974 - val_loss: 0.2943 - val_accuracy: 0.9305\n",
      "Epoch 55/100\n",
      "200/200 [==============================] - 3s 14ms/step - loss: 0.0092 - accuracy: 0.9991 - val_loss: 0.2632 - val_accuracy: 0.9425\n",
      "Epoch 56/100\n",
      "200/200 [==============================] - 3s 15ms/step - loss: 0.0043 - accuracy: 0.9997 - val_loss: 0.2657 - val_accuracy: 0.9410\n",
      "Epoch 57/100\n",
      "200/200 [==============================] - 3s 14ms/step - loss: 0.0086 - accuracy: 0.9999 - val_loss: 0.2600 - val_accuracy: 0.9390\n",
      "Epoch 58/100\n",
      "200/200 [==============================] - 3s 14ms/step - loss: 0.0034 - accuracy: 0.9999 - val_loss: 0.2827 - val_accuracy: 0.9365\n",
      "Epoch 59/100\n",
      "200/200 [==============================] - 3s 14ms/step - loss: 0.0047 - accuracy: 0.9991 - val_loss: 0.2722 - val_accuracy: 0.9400\n",
      "Epoch 60/100\n",
      "200/200 [==============================] - 3s 14ms/step - loss: 0.0064 - accuracy: 0.9988 - val_loss: 0.2787 - val_accuracy: 0.9375\n",
      "Epoch 61/100\n",
      "200/200 [==============================] - 3s 13ms/step - loss: 0.0073 - accuracy: 0.9983 - val_loss: 0.2704 - val_accuracy: 0.9405\n",
      "Epoch 62/100\n",
      "200/200 [==============================] - 3s 14ms/step - loss: 0.0086 - accuracy: 0.9954 - val_loss: 0.2671 - val_accuracy: 0.9375\n",
      "Epoch 63/100\n",
      "200/200 [==============================] - 3s 14ms/step - loss: 0.0048 - accuracy: 0.9996 - val_loss: 0.2733 - val_accuracy: 0.9390\n",
      "Epoch 64/100\n",
      "200/200 [==============================] - 3s 14ms/step - loss: 0.0077 - accuracy: 0.9977 - val_loss: 0.2739 - val_accuracy: 0.9415\n",
      "Epoch 65/100\n",
      "200/200 [==============================] - 3s 13ms/step - loss: 0.0041 - accuracy: 0.9997 - val_loss: 0.2672 - val_accuracy: 0.9405\n",
      "Epoch 66/100\n",
      "200/200 [==============================] - 3s 14ms/step - loss: 0.0060 - accuracy: 0.9988 - val_loss: 0.2718 - val_accuracy: 0.9405\n",
      "Epoch 67/100\n",
      "200/200 [==============================] - 3s 13ms/step - loss: 0.0027 - accuracy: 1.0000 - val_loss: 0.2797 - val_accuracy: 0.9370\n",
      "Epoch 68/100\n",
      "200/200 [==============================] - 3s 14ms/step - loss: 0.0032 - accuracy: 0.9995 - val_loss: 0.2751 - val_accuracy: 0.9390\n",
      "Epoch 69/100\n",
      "200/200 [==============================] - 3s 14ms/step - loss: 0.0032 - accuracy: 0.9999 - val_loss: 0.2795 - val_accuracy: 0.9370\n",
      "Epoch 70/100\n",
      "200/200 [==============================] - 3s 14ms/step - loss: 0.0050 - accuracy: 0.9984 - val_loss: 0.2804 - val_accuracy: 0.9370\n",
      "Epoch 71/100\n",
      "200/200 [==============================] - 3s 14ms/step - loss: 0.0078 - accuracy: 0.9979 - val_loss: 0.2761 - val_accuracy: 0.9385\n",
      "Epoch 72/100\n",
      "200/200 [==============================] - 4s 19ms/step - loss: 0.0030 - accuracy: 0.9998 - val_loss: 0.2857 - val_accuracy: 0.9355\n",
      "Epoch 73/100\n",
      "200/200 [==============================] - 4s 18ms/step - loss: 0.0113 - accuracy: 0.9968 - val_loss: 0.2713 - val_accuracy: 0.9400\n",
      "Epoch 74/100\n",
      "200/200 [==============================] - 3s 14ms/step - loss: 0.0047 - accuracy: 0.9987 - val_loss: 0.2940 - val_accuracy: 0.9350\n",
      "Epoch 75/100\n",
      "200/200 [==============================] - 3s 17ms/step - loss: 0.0024 - accuracy: 1.0000 - val_loss: 0.2749 - val_accuracy: 0.9420\n",
      "Epoch 76/100\n",
      "200/200 [==============================] - 3s 14ms/step - loss: 0.0054 - accuracy: 0.9993 - val_loss: 0.2720 - val_accuracy: 0.9390\n",
      "Epoch 77/100\n",
      "200/200 [==============================] - 3s 15ms/step - loss: 0.0044 - accuracy: 0.9981 - val_loss: 0.2794 - val_accuracy: 0.9380\n",
      "Epoch 78/100\n",
      "200/200 [==============================] - 3s 14ms/step - loss: 0.0034 - accuracy: 0.9998 - val_loss: 0.2798 - val_accuracy: 0.9415\n",
      "Epoch 79/100\n",
      "200/200 [==============================] - 3s 14ms/step - loss: 0.0035 - accuracy: 1.0000 - val_loss: 0.2762 - val_accuracy: 0.9400\n",
      "Epoch 80/100\n",
      "200/200 [==============================] - 3s 13ms/step - loss: 0.0056 - accuracy: 0.9975 - val_loss: 0.2818 - val_accuracy: 0.9360\n",
      "Epoch 81/100\n",
      "200/200 [==============================] - 3s 13ms/step - loss: 0.0033 - accuracy: 1.0000 - val_loss: 0.2783 - val_accuracy: 0.9390\n",
      "Epoch 82/100\n",
      "200/200 [==============================] - 3s 14ms/step - loss: 0.0018 - accuracy: 1.0000 - val_loss: 0.2724 - val_accuracy: 0.9395\n",
      "Epoch 83/100\n",
      "200/200 [==============================] - 3s 14ms/step - loss: 0.0013 - accuracy: 0.9999 - val_loss: 0.2886 - val_accuracy: 0.9385\n",
      "Epoch 84/100\n",
      "200/200 [==============================] - 3s 13ms/step - loss: 0.0023 - accuracy: 1.0000 - val_loss: 0.3219 - val_accuracy: 0.9345\n",
      "Epoch 85/100\n",
      "200/200 [==============================] - 3s 13ms/step - loss: 0.0058 - accuracy: 0.9974 - val_loss: 0.2878 - val_accuracy: 0.9375\n",
      "Epoch 86/100\n",
      "200/200 [==============================] - 3s 13ms/step - loss: 0.0020 - accuracy: 1.0000 - val_loss: 0.2808 - val_accuracy: 0.9400\n",
      "Epoch 87/100\n",
      "200/200 [==============================] - 3s 13ms/step - loss: 0.0018 - accuracy: 0.9998 - val_loss: 0.3022 - val_accuracy: 0.9350\n",
      "Epoch 88/100\n",
      "200/200 [==============================] - 3s 13ms/step - loss: 0.0027 - accuracy: 0.9998 - val_loss: 0.2941 - val_accuracy: 0.9390\n",
      "Epoch 89/100\n",
      "200/200 [==============================] - 3s 13ms/step - loss: 0.0029 - accuracy: 1.0000 - val_loss: 0.2831 - val_accuracy: 0.9425\n",
      "Epoch 90/100\n",
      "200/200 [==============================] - 3s 13ms/step - loss: 0.0021 - accuracy: 1.0000 - val_loss: 0.2878 - val_accuracy: 0.9410\n",
      "Epoch 91/100\n",
      "200/200 [==============================] - 3s 13ms/step - loss: 0.0032 - accuracy: 0.9990 - val_loss: 0.3077 - val_accuracy: 0.9370\n",
      "Epoch 92/100\n",
      "200/200 [==============================] - 3s 13ms/step - loss: 0.0024 - accuracy: 0.9999 - val_loss: 0.3166 - val_accuracy: 0.9365\n",
      "Epoch 93/100\n",
      "200/200 [==============================] - 3s 13ms/step - loss: 0.0047 - accuracy: 0.9987 - val_loss: 0.3027 - val_accuracy: 0.9395\n",
      "Epoch 94/100\n",
      "200/200 [==============================] - 3s 13ms/step - loss: 0.0017 - accuracy: 0.9995 - val_loss: 0.2886 - val_accuracy: 0.9395\n",
      "Epoch 95/100\n",
      "200/200 [==============================] - 3s 13ms/step - loss: 0.0019 - accuracy: 1.0000 - val_loss: 0.2889 - val_accuracy: 0.9405\n",
      "Epoch 96/100\n",
      "200/200 [==============================] - 3s 13ms/step - loss: 0.0020 - accuracy: 1.0000 - val_loss: 0.2853 - val_accuracy: 0.9420\n",
      "Epoch 97/100\n",
      "200/200 [==============================] - 3s 14ms/step - loss: 0.0021 - accuracy: 1.0000 - val_loss: 0.2961 - val_accuracy: 0.9420\n",
      "Epoch 98/100\n",
      "200/200 [==============================] - 3s 13ms/step - loss: 0.0012 - accuracy: 1.0000 - val_loss: 0.2939 - val_accuracy: 0.9405\n",
      "Epoch 99/100\n",
      "200/200 [==============================] - 3s 13ms/step - loss: 9.9753e-04 - accuracy: 1.0000 - val_loss: 0.2920 - val_accuracy: 0.9400\n",
      "Epoch 100/100\n",
      "200/200 [==============================] - 3s 13ms/step - loss: 0.0017 - accuracy: 1.0000 - val_loss: 0.2927 - val_accuracy: 0.9410\n",
      "Test score: 0.2926597595214844\n",
      "Test accuracy: 0.9409999847412109\n"
     ]
    }
   ],
   "source": [
    "model = Sequential() \n",
    "\n",
    "# Convolutional layers in 3D for spatial data\n",
    "# We use a 3x3 kernel size (9 parameters per kernel)\n",
    "model.add(Conv2D(32, kernel_size=(3, 3), activation='relu',input_shape=(img_rows, img_cols, 1)))\n",
    "model.add(Conv2D(64, (3, 3), activation='relu'))\n",
    "\n",
    "# Pooling is simply a summary statistic to make computation faster. \n",
    "# In this case we use max pooling (finding the max values)\n",
    "model.add(MaxPooling2D(pool_size=(2, 2)))\n",
    "model.add(Dropout(0.5))\n",
    "\n",
    "# Call flatten to go from 3D layers to 2D normally fully connected layers\n",
    "model.add(Flatten())\n",
    "model.add(Dense(units=50, input_dim=128, activation='relu')) \n",
    "model.add(Dense(units=10, input_dim=50, activation='softmax')) \n",
    "\n",
    "## Cost function & Objective (and solver)\n",
    "sgd = optimizers.SGD(lr=0.01)\n",
    "model.compile(optimizer=sgd, loss='categorical_crossentropy', metrics=['accuracy'])\n",
    "\n",
    "# Use a verbose fitting to show the computation during each epoch\n",
    "history = model.fit(x_train, y_train, batch_size=10, epochs=100, verbose=1, validation_data=(x_test, y_test))\n",
    "score = model.evaluate(x_test, y_test, verbose=0)\n",
    "print('Test score:', score[0]) \n",
    "print('Test accuracy:', score[1])"
   ]
  },
  {
   "cell_type": "code",
   "execution_count": null,
   "metadata": {},
   "outputs": [],
   "source": []
  }
 ],
 "metadata": {
  "kernelspec": {
   "display_name": "Python 3",
   "language": "python",
   "name": "python3"
  },
  "language_info": {
   "codemirror_mode": {
    "name": "ipython",
    "version": 3
   },
   "file_extension": ".py",
   "mimetype": "text/x-python",
   "name": "python",
   "nbconvert_exporter": "python",
   "pygments_lexer": "ipython3",
   "version": "3.7.7"
  }
 },
 "nbformat": 4,
 "nbformat_minor": 4
}
